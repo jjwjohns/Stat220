{
  "cells": [
    {
      "cell_type": "markdown",
      "id": "77054585",
      "metadata": {
        "id": "77054585"
      },
      "source": [
        "[![Open in Colab](https://colab.research.google.com/assets/colab-badge.svg)](https://colab.research.google.com/github/drbob-richardson/stat220/blob/main/Assignments/Stat_220_HW4.ipynb)"
      ]
    },
    {
      "cell_type": "markdown",
      "id": "f8b4fe84",
      "metadata": {
        "id": "f8b4fe84"
      },
      "source": [
        "# Stat 220 — Homework 4:\n",
        "\n",
        "**Instructions**\n",
        "- Answer all questions. Show all work for full credit.\n",
        "- Use Python (NumPy/Matplotlib/SciPy) to compute values and make plots.\n",
        "- When a plot is requested, label axes and include a legend.\n",
        "- You may add cells as needed."
      ]
    },
    {
      "cell_type": "code",
      "execution_count": 2,
      "id": "573495b5",
      "metadata": {
        "id": "573495b5"
      },
      "outputs": [],
      "source": [
        "\n",
        "# Feel free to add any imports you want here.\n",
        "import math\n",
        "import numpy as np\n",
        "import matplotlib.pyplot as plt\n",
        "from scipy.stats import norm, expon, binom"
      ]
    },
    {
      "cell_type": "markdown",
      "id": "5bdee43f",
      "metadata": {
        "id": "5bdee43f"
      },
      "source": [
        "## Data (used in Q1–Q4)\n",
        "We use this small dataset throughout Questions 1–4:"
      ]
    },
    {
      "cell_type": "code",
      "execution_count": 3,
      "id": "c970bc83",
      "metadata": {
        "id": "c970bc83",
        "colab": {
          "base_uri": "https://localhost:8080/"
        },
        "outputId": "a15ddf2d-a130-40a8-9368-fc6710957f37"
      },
      "outputs": [
        {
          "output_type": "execute_result",
          "data": {
            "text/plain": [
              "array([1.1, 3.4, 5.7, 1.9, 2.3, 4.1, 0.9, 1.6, 2.4, 0.5])"
            ]
          },
          "metadata": {},
          "execution_count": 3
        }
      ],
      "source": [
        "\n",
        "x = np.array([1.1, 3.4, 5.7, 1.9, 2.3, 4.1, 0.9, 1.6, 2.4, 0.5], dtype=float)\n",
        "n = len(x)\n",
        "x\n"
      ]
    },
    {
      "cell_type": "markdown",
      "id": "1f678832",
      "metadata": {
        "id": "1f678832"
      },
      "source": [
        "## Question 1 — Likelihood Function Practice\n",
        "\n",
        "You are given the dataset:\n",
        "\\[\n",
        "x = (1.1, 3.4, 5.7, 1.9, 2.3, 4.1, 0.9, 1.6, 2.4, 0.5).\n",
        "\\]\n",
        "\n"
      ]
    },
    {
      "cell_type": "markdown",
      "id": "eb238489",
      "metadata": {
        "id": "eb238489"
      },
      "source": [
        "**(a)** Derive the **likelihood function**  if the data are assumed to come from an **Exponential($\\lambda$)** distribution **with fixed $\\lambda = 0.5$**. Then **evaluate** the likelihood at the given data."
      ]
    },
    {
      "cell_type": "markdown",
      "source": [
        "The likelihood function of an exponential distribution is given by 𝜆^n * e^-(sum(data_X)*𝜆)"
      ],
      "metadata": {
        "id": "QjMX2rnAu2KZ"
      },
      "id": "QjMX2rnAu2KZ"
    },
    {
      "cell_type": "code",
      "execution_count": 14,
      "id": "77733a1a",
      "metadata": {
        "id": "77733a1a",
        "colab": {
          "base_uri": "https://localhost:8080/"
        },
        "outputId": "5b9a3e4c-0420-4dfe-f834-1bc00aa98a2e"
      },
      "outputs": [
        {
          "output_type": "stream",
          "name": "stdout",
          "text": [
            "likelihood of dataset given assumed as an Exponential distribution with a fixed 𝜆 of .5 is 6.307844586963343e-09\n"
          ]
        }
      ],
      "source": [
        "sum_x = sum(x)\n",
        "𝜆 = 0.5\n",
        "\n",
        "likelihood = (𝜆**n)*np.exp(-sum_x*𝜆)\n",
        "print(f\"likelihood of dataset given assumed as an Exponential distribution with a fixed 𝜆 of .5 is {likelihood}\")"
      ]
    },
    {
      "cell_type": "markdown",
      "id": "37ed941c",
      "metadata": {
        "id": "37ed941c"
      },
      "source": [
        "**(b)** Derive the likelihood function if the data are assumed to come from a **Normal($\\mu,\\sigma^2$)** distribution **with fixed $\\mu = 2$, $\\sigma = 1$**. Then **evaluate** that likelihood at the data."
      ]
    },
    {
      "cell_type": "markdown",
      "source": [
        "The likelihood function of normal distribution is given by (2*pi*σ^2)^(-n/2) * exp((-1/(2*σ^2)) * (sum_x(data_x - μ)^2) (with normalization constant)"
      ],
      "metadata": {
        "id": "QVvHFgZRztO8"
      },
      "id": "QVvHFgZRztO8"
    },
    {
      "cell_type": "code",
      "source": [
        "mu=2\n",
        "sigma=1\n",
        "\n",
        "inner_summation = 0\n",
        "for i in range(len(x)):\n",
        "  inner_summation += (x[i] - mu)**2"
      ],
      "metadata": {
        "id": "H2NGvAaf0-AB"
      },
      "id": "H2NGvAaf0-AB",
      "execution_count": 15,
      "outputs": []
    },
    {
      "cell_type": "code",
      "execution_count": 17,
      "id": "d1798794",
      "metadata": {
        "id": "d1798794",
        "colab": {
          "base_uri": "https://localhost:8080/"
        },
        "outputId": "b237712b-db55-45cd-ae85-71190d07660d"
      },
      "outputs": [
        {
          "output_type": "stream",
          "name": "stdout",
          "text": [
            "likelihood of dataset given assumed as an Normal distribution with fixed 𝜇=2,𝜎=1 is 4.3122749603719213e-10\n"
          ]
        }
      ],
      "source": [
        "likelihood = (2 * np.pi * sigma**2)**(-n/2) * np.exp((-1/(2*sigma**2)) * inner_summation)\n",
        "print(f\"likelihood of dataset given assumed as an Normal distribution with fixed 𝜇=2,𝜎=1 is {likelihood}\")"
      ]
    },
    {
      "cell_type": "markdown",
      "id": "276e7f05",
      "metadata": {
        "id": "276e7f05"
      },
      "source": [
        "## Question 2\n",
        "\n",
        "Assume the data are i.i.d. **Normal($\\mu,\\sigma^2$)** with both $\\mu$ and $\\sigma^2$ **unknown**.\n",
        "\n"
      ]
    },
    {
      "cell_type": "markdown",
      "id": "7ff83d10",
      "metadata": {
        "id": "7ff83d10"
      },
      "source": [
        "**(a)** Compute these MLEs for $\\mu$ and $\\sigma$ for the dataset.  \n"
      ]
    },
    {
      "cell_type": "markdown",
      "source": [
        "MLE expected mean and variance for a normal distribution is given by:\n",
        "mean = average_of_given_data\n",
        "variance = 1/n * (sum((x_i-x_avg)^2))"
      ],
      "metadata": {
        "id": "dWOrNjBA2SPo"
      },
      "id": "dWOrNjBA2SPo"
    },
    {
      "cell_type": "code",
      "execution_count": 21,
      "id": "e1b6ec1b",
      "metadata": {
        "id": "e1b6ec1b",
        "colab": {
          "base_uri": "https://localhost:8080/"
        },
        "outputId": "c3f29642-f05c-4180-b1a1-fcdfa7b894fd"
      },
      "outputs": [
        {
          "output_type": "stream",
          "name": "stdout",
          "text": [
            "mean of dataset is 2.3899999999999997 and variance of dataset is 2.3229\n"
          ]
        }
      ],
      "source": [
        "mean = sum_x/n\n",
        "\n",
        "summation = 0\n",
        "for i in range(n):\n",
        "  summation += (x[i]- mean)**2\n",
        "\n",
        "variance = 1/n * sum((x-mean)**2)\n",
        "\n",
        "print(f\"mean of dataset is {mean} and variance of dataset is {variance}\")"
      ]
    },
    {
      "cell_type": "markdown",
      "id": "fb24a041",
      "metadata": {
        "id": "fb24a041"
      },
      "source": [
        "**(b)** Plot a **histogram** of the data with the **fitted Normal density** overlaid."
      ]
    },
    {
      "cell_type": "code",
      "execution_count": 28,
      "id": "ae6d69a8",
      "metadata": {
        "id": "ae6d69a8",
        "colab": {
          "base_uri": "https://localhost:8080/",
          "height": 490
        },
        "outputId": "ac6933d8-b016-4f25-ac58-37eb8a797263"
      },
      "outputs": [
        {
          "output_type": "execute_result",
          "data": {
            "text/plain": [
              "<matplotlib.legend.Legend at 0x7da946858f80>"
            ]
          },
          "metadata": {},
          "execution_count": 28
        },
        {
          "output_type": "display_data",
          "data": {
            "text/plain": [
              "<Figure size 640x480 with 1 Axes>"
            ],
            "image/png": "[encoded data removed]"
          },
          "metadata": {}
        }
      ],
      "source": [
        "plt.hist(x, density=True)\n",
        "\n",
        "x_range = np.linspace(min(x)-1, max(x)+1, 200)\n",
        "pdf_values = norm.pdf(x_range, mean, np.sqrt(variance))\n",
        "plt.plot(x_range, pdf_values, 'r-', linewidth=2, label='Fitted Normal')\n",
        "\n",
        "plt.title('Histogram of Data \"x\" with Fitted Normal Density')\n",
        "plt.xlabel('x')\n",
        "plt.ylabel('Density')\n",
        "plt.legend()"
      ]
    },
    {
      "cell_type": "markdown",
      "id": "b90c8528",
      "metadata": {
        "id": "b90c8528"
      },
      "source": [
        "## Question 3\n",
        "\n",
        "Assume the data are i.i.d. **Exponential($\\lambda$)** with **unknown** rate $\\lambda$.\n",
        "\n",
        "**(c)** Compute $\\hat{\\lambda}$.  \n"
      ]
    },
    {
      "cell_type": "markdown",
      "source": [
        "𝜆̂_hat for exponential data is given as n/sum(data_x)"
      ],
      "metadata": {
        "id": "ISTwaTIO5gDc"
      },
      "id": "ISTwaTIO5gDc"
    },
    {
      "cell_type": "markdown",
      "id": "5eab5409",
      "metadata": {
        "id": "5eab5409"
      },
      "source": [
        "**(a)** Compute the MLE for $\\lambda$.  \n"
      ]
    },
    {
      "cell_type": "code",
      "execution_count": 29,
      "id": "b3a62ba4",
      "metadata": {
        "id": "b3a62ba4",
        "colab": {
          "base_uri": "https://localhost:8080/"
        },
        "outputId": "e06f6d03-3f07-4a30-d021-66e6ec6f1760"
      },
      "outputs": [
        {
          "output_type": "stream",
          "name": "stdout",
          "text": [
            "MLE for 𝜆 is 0.4184100418410042\n"
          ]
        }
      ],
      "source": [
        "MLE_𝜆 = n/sum_x\n",
        "print(f\"MLE for 𝜆 is {MLE_𝜆}\")"
      ]
    },
    {
      "cell_type": "markdown",
      "id": "abe4dd4e",
      "metadata": {
        "id": "abe4dd4e"
      },
      "source": [
        "**(b)** Plot a histogram of the data with the **fitted Exponential** density overlaid."
      ]
    },
    {
      "cell_type": "code",
      "execution_count": null,
      "id": "b401422e",
      "metadata": {
        "id": "b401422e"
      },
      "outputs": [],
      "source": []
    },
    {
      "cell_type": "markdown",
      "id": "4299cea1",
      "metadata": {
        "id": "4299cea1"
      },
      "source": [
        "## Question 4 — Model Comparison (Visual + AIC)\n",
        "\n"
      ]
    },
    {
      "cell_type": "markdown",
      "id": "91767429",
      "metadata": {
        "id": "91767429"
      },
      "source": [
        "**(a)** Visually compare your overlaid fits from Q2 and Q3. Which model seems better?  "
      ]
    },
    {
      "cell_type": "markdown",
      "id": "ef1966e5",
      "metadata": {
        "id": "ef1966e5"
      },
      "source": []
    },
    {
      "cell_type": "markdown",
      "id": "a26954c1",
      "metadata": {
        "id": "a26954c1"
      },
      "source": [
        "**(b)** Compute **AIC** for both models using the log-likelihoods at the MLEs:\n",
        "$$\n",
        "\\mathrm{AIC} = -2\\,\\ell(\\hat{\\theta}) + 2k,\n",
        "$$\n",
        "where $k$ is the number of parameters (Normal: $k=2$ for $\\mu,\\sigma$; Exponential: $k=1$).  "
      ]
    },
    {
      "cell_type": "code",
      "execution_count": null,
      "id": "dbef2262",
      "metadata": {
        "id": "dbef2262"
      },
      "outputs": [],
      "source": []
    },
    {
      "cell_type": "markdown",
      "id": "43659e37",
      "metadata": {
        "id": "43659e37"
      },
      "source": [
        "**(c)** Which model is preferred by AIC? Briefly justify."
      ]
    },
    {
      "cell_type": "markdown",
      "id": "1a047559",
      "metadata": {
        "id": "1a047559"
      },
      "source": []
    },
    {
      "cell_type": "markdown",
      "id": "e10fa384",
      "metadata": {
        "id": "e10fa384"
      },
      "source": [
        "## Question 5 — Regression under Different Losses\n",
        "\n",
        "Consider the regression dataset (note the last point is a potential outlier):\n",
        "\\[\n",
        "x_reg = (1,2,3,4,5,6,7,8),\\quad\n",
        "y_reg = (2.1, 3.9, 6.0, 8.2, 9.8, 12.1, 14.2, 30.0).\n",
        "\\]\n",
        "\n",
        "We fit $y = \\beta_0 + \\beta_1 x$ under three losses.\n",
        "\n"
      ]
    },
    {
      "cell_type": "markdown",
      "id": "0a7ae8a0",
      "metadata": {
        "id": "0a7ae8a0"
      },
      "source": [
        "**(a)** Compute $(\\hat\\beta_0, \\hat\\beta_1)$ assuming a squared error loss function.\n"
      ]
    },
    {
      "cell_type": "code",
      "execution_count": null,
      "id": "4ea5bf1e",
      "metadata": {
        "id": "4ea5bf1e"
      },
      "outputs": [],
      "source": []
    },
    {
      "cell_type": "markdown",
      "id": "c335f9a3",
      "metadata": {
        "id": "c335f9a3"
      },
      "source": [
        "**(b)** Compute $(\\hat\\beta_0, \\hat\\beta_1)$ assuming an absolute loss function.\n"
      ]
    },
    {
      "cell_type": "code",
      "execution_count": null,
      "id": "da1b41bc",
      "metadata": {
        "id": "da1b41bc"
      },
      "outputs": [],
      "source": []
    },
    {
      "cell_type": "markdown",
      "id": "efb17812",
      "metadata": {
        "id": "efb17812"
      },
      "source": [
        "**(c)** Compute $(\\hat\\beta_0, \\hat\\beta_1)$ assuming a loss function that is equal to the largest difference $y - \\hat{y}$\n"
      ]
    },
    {
      "cell_type": "code",
      "execution_count": null,
      "id": "48d1b434",
      "metadata": {
        "id": "48d1b434"
      },
      "outputs": [],
      "source": []
    },
    {
      "cell_type": "markdown",
      "id": "a0c98989",
      "metadata": {
        "id": "a0c98989"
      },
      "source": [
        "**(d)** Plot the data with **all three** fitted lines on the same axes.  \n"
      ]
    },
    {
      "cell_type": "code",
      "execution_count": null,
      "id": "932f8726",
      "metadata": {
        "id": "932f8726"
      },
      "outputs": [],
      "source": []
    }
  ],
  "metadata": {
    "colab": {
      "provenance": []
    },
    "language_info": {
      "name": "python"
    },
    "kernelspec": {
      "name": "python3",
      "display_name": "Python 3"
    }
  },
  "nbformat": 4,
  "nbformat_minor": 5
}