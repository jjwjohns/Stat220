{
  "cells": [
    {
      "cell_type": "markdown",
      "id": "77054585",
      "metadata": {
        "id": "77054585"
      },
      "source": [
        "[![Open in Colab](https://colab.research.google.com/assets/colab-badge.svg)](https://colab.research.google.com/github/drbob-richardson/stat220/blob/main/Assignments/Stat_220_HW4.ipynb)"
      ]
    },
    {
      "cell_type": "markdown",
      "id": "f8b4fe84",
      "metadata": {
        "id": "f8b4fe84"
      },
      "source": [
        "# Stat 220 — Homework 4:\n",
        "\n",
        "**Instructions**\n",
        "- Answer all questions. Show all work for full credit.\n",
        "- Use Python (NumPy/Matplotlib/SciPy) to compute values and make plots.\n",
        "- When a plot is requested, label axes and include a legend.\n",
        "- You may add cells as needed."
      ]
    },
    {
      "cell_type": "code",
      "execution_count": 2,
      "id": "573495b5",
      "metadata": {
        "id": "573495b5"
      },
      "outputs": [],
      "source": [
        "\n",
        "# Feel free to add any imports you want here.\n",
        "import math\n",
        "import numpy as np\n",
        "import matplotlib.pyplot as plt\n",
        "from scipy.stats import norm, expon, binom"
      ]
    },
    {
      "cell_type": "markdown",
      "id": "5bdee43f",
      "metadata": {
        "id": "5bdee43f"
      },
      "source": [
        "## Data (used in Q1–Q4)\n",
        "We use this small dataset throughout Questions 1–4:"
      ]
    },
    {
      "cell_type": "code",
      "execution_count": 3,
      "id": "c970bc83",
      "metadata": {
        "id": "c970bc83",
        "colab": {
          "base_uri": "https://localhost:8080/"
        },
        "outputId": "a15ddf2d-a130-40a8-9368-fc6710957f37"
      },
      "outputs": [
        {
          "output_type": "execute_result",
          "data": {
            "text/plain": [
              "array([1.1, 3.4, 5.7, 1.9, 2.3, 4.1, 0.9, 1.6, 2.4, 0.5])"
            ]
          },
          "metadata": {},
          "execution_count": 3
        }
      ],
      "source": [
        "\n",
        "x = np.array([1.1, 3.4, 5.7, 1.9, 2.3, 4.1, 0.9, 1.6, 2.4, 0.5], dtype=float)\n",
        "n = len(x)\n",
        "x\n"
      ]
    },
    {
      "cell_type": "markdown",
      "id": "1f678832",
      "metadata": {
        "id": "1f678832"
      },
      "source": [
        "## Question 1 — Likelihood Function Practice\n",
        "\n",
        "You are given the dataset:\n",
        "\\[\n",
        "x = (1.1, 3.4, 5.7, 1.9, 2.3, 4.1, 0.9, 1.6, 2.4, 0.5).\n",
        "\\]\n",
        "\n"
      ]
    },
    {
      "cell_type": "markdown",
      "id": "eb238489",
      "metadata": {
        "id": "eb238489"
      },
      "source": [
        "**(a)** Derive the **likelihood function**  if the data are assumed to come from an **Exponential($\\lambda$)** distribution **with fixed $\\lambda = 0.5$**. Then **evaluate** the likelihood at the given data."
      ]
    },
    {
      "cell_type": "markdown",
      "source": [
        "The likelihood function of an exponential distribution is given by 𝜆^n * e^-(sum(data_X)*𝜆)"
      ],
      "metadata": {
        "id": "QjMX2rnAu2KZ"
      },
      "id": "QjMX2rnAu2KZ"
    },
    {
      "cell_type": "code",
      "execution_count": 36,
      "id": "77733a1a",
      "metadata": {
        "id": "77733a1a",
        "colab": {
          "base_uri": "https://localhost:8080/"
        },
        "outputId": "77904f27-dad9-474d-a3b5-365a4d8c8e4b"
      },
      "outputs": [
        {
          "output_type": "stream",
          "name": "stdout",
          "text": [
            "likelihood of dataset given assumed as an Exponential distribution with a fixed 𝜆 of .5 is 6.307844586963343e-09\n",
            "log likelihood = -18.881471805599453\n"
          ]
        }
      ],
      "source": [
        "sum_x = sum(x)\n",
        "𝜆 = 0.5\n",
        "\n",
        "exponential_likelihood = (𝜆**n)*np.exp(-sum_x*𝜆)\n",
        "exponential_log_likelihood = np.log(exponential_likelihood)\n",
        "print(f\"likelihood of dataset given assumed as an Exponential distribution with a fixed 𝜆 of .5 is {exponential_likelihood}\")\n",
        "print(f\"log likelihood = {exponential_log_likelihood}\")"
      ]
    },
    {
      "cell_type": "markdown",
      "id": "37ed941c",
      "metadata": {
        "id": "37ed941c"
      },
      "source": [
        "**(b)** Derive the likelihood function if the data are assumed to come from a **Normal($\\mu,\\sigma^2$)** distribution **with fixed $\\mu = 2$, $\\sigma = 1$**. Then **evaluate** that likelihood at the data."
      ]
    },
    {
      "cell_type": "markdown",
      "source": [
        "The likelihood function of normal distribution is given by (2*pi*σ^2)^(-n/2) * exp((-1/(2*σ^2)) * (sum_x(data_x - μ)^2) (with normalization constant)"
      ],
      "metadata": {
        "id": "QVvHFgZRztO8"
      },
      "id": "QVvHFgZRztO8"
    },
    {
      "cell_type": "code",
      "source": [
        "mu=2\n",
        "sigma=1\n",
        "\n",
        "inner_summation = 0\n",
        "for i in range(len(x)):\n",
        "  inner_summation += (x[i] - mu)**2"
      ],
      "metadata": {
        "id": "H2NGvAaf0-AB"
      },
      "id": "H2NGvAaf0-AB",
      "execution_count": 33,
      "outputs": []
    },
    {
      "cell_type": "code",
      "execution_count": 35,
      "id": "d1798794",
      "metadata": {
        "id": "d1798794",
        "colab": {
          "base_uri": "https://localhost:8080/"
        },
        "outputId": "4ad9d124-4644-4f76-9697-5e3b19908838"
      },
      "outputs": [
        {
          "output_type": "stream",
          "name": "stdout",
          "text": [
            "likelihood of dataset given assumed as an Normal distribution with fixed 𝜇=2,𝜎=1 is 4.3122749603719213e-10\n",
            "log likelihood = -21.564385332046726\n"
          ]
        }
      ],
      "source": [
        "normal_likelihood = (2 * np.pi * sigma**2)**(-n/2) * np.exp((-1/(2*sigma**2)) * inner_summation)\n",
        "normal_log_likelihood = np.log(normal_likelihood)\n",
        "print(f\"likelihood of dataset given assumed as an Normal distribution with fixed 𝜇=2,𝜎=1 is {normal_likelihood}\")\n",
        "print(f\"log likelihood = {normal_log_likelihood}\")"
      ]
    },
    {
      "cell_type": "markdown",
      "id": "276e7f05",
      "metadata": {
        "id": "276e7f05"
      },
      "source": [
        "## Question 2\n",
        "\n",
        "Assume the data are i.i.d. **Normal($\\mu,\\sigma^2$)** with both $\\mu$ and $\\sigma^2$ **unknown**.\n",
        "\n"
      ]
    },
    {
      "cell_type": "markdown",
      "id": "7ff83d10",
      "metadata": {
        "id": "7ff83d10"
      },
      "source": [
        "**(a)** Compute these MLEs for $\\mu$ and $\\sigma$ for the dataset.  \n"
      ]
    },
    {
      "cell_type": "markdown",
      "source": [
        "MLE expected mean and variance for a normal distribution is given by:\n",
        "mean = average_of_given_data\n",
        "variance = 1/n * (sum((x_i-x_avg)^2))"
      ],
      "metadata": {
        "id": "dWOrNjBA2SPo"
      },
      "id": "dWOrNjBA2SPo"
    },
    {
      "cell_type": "code",
      "execution_count": 21,
      "id": "e1b6ec1b",
      "metadata": {
        "id": "e1b6ec1b",
        "colab": {
          "base_uri": "https://localhost:8080/"
        },
        "outputId": "c3f29642-f05c-4180-b1a1-fcdfa7b894fd"
      },
      "outputs": [
        {
          "output_type": "stream",
          "name": "stdout",
          "text": [
            "mean of dataset is 2.3899999999999997 and variance of dataset is 2.3229\n"
          ]
        }
      ],
      "source": [
        "mean = sum_x/n\n",
        "\n",
        "summation = 0\n",
        "for i in range(n):\n",
        "  summation += (x[i]- mean)**2\n",
        "\n",
        "variance = 1/n * sum((x-mean)**2)\n",
        "\n",
        "print(f\"mean of dataset is {mean} and variance of dataset is {variance}\")"
      ]
    },
    {
      "cell_type": "markdown",
      "id": "fb24a041",
      "metadata": {
        "id": "fb24a041"
      },
      "source": [
        "**(b)** Plot a **histogram** of the data with the **fitted Normal density** overlaid."
      ]
    },
    {
      "cell_type": "code",
      "execution_count": 28,
      "id": "ae6d69a8",
      "metadata": {
        "id": "ae6d69a8",
        "colab": {
          "base_uri": "https://localhost:8080/",
          "height": 490
        },
        "outputId": "ac6933d8-b016-4f25-ac58-37eb8a797263"
      },
      "outputs": [
        {
          "output_type": "execute_result",
          "data": {
            "text/plain": [
              "<matplotlib.legend.Legend at 0x7da946858f80>"
            ]
          },
          "metadata": {},
          "execution_count": 28
        },
        {
          "output_type": "display_data",
          "data": {
            "text/plain": [
              "<Figure size 640x480 with 1 Axes>"
            ],
            "image/png": "[encoded data removed]"
          },
          "metadata": {}
        }
      ],
      "source": [
        "plt.hist(x, density=True)\n",
        "\n",
        "x_range = np.linspace(min(x)-1, max(x)+1, 200)\n",
        "pdf_values = norm.pdf(x_range, mean, np.sqrt(variance))\n",
        "plt.plot(x_range, pdf_values, 'r-', linewidth=2, label='Fitted Normal')\n",
        "\n",
        "plt.title('Histogram of Data \"x\" with Fitted Normal Density')\n",
        "plt.xlabel('x')\n",
        "plt.ylabel('Density')\n",
        "plt.legend()"
      ]
    },
    {
      "cell_type": "markdown",
      "id": "b90c8528",
      "metadata": {
        "id": "b90c8528"
      },
      "source": [
        "## Question 3\n",
        "\n",
        "Assume the data are i.i.d. **Exponential($\\lambda$)** with **unknown** rate $\\lambda$.\n",
        "\n",
        "**(c)** Compute $\\hat{\\lambda}$.  \n"
      ]
    },
    {
      "cell_type": "markdown",
      "source": [
        "𝜆̂_hat for exponential data is given as n/sum(data_x)"
      ],
      "metadata": {
        "id": "ISTwaTIO5gDc"
      },
      "id": "ISTwaTIO5gDc"
    },
    {
      "cell_type": "markdown",
      "id": "5eab5409",
      "metadata": {
        "id": "5eab5409"
      },
      "source": [
        "**(a)** Compute the MLE for $\\lambda$.  \n"
      ]
    },
    {
      "cell_type": "code",
      "execution_count": 30,
      "id": "b3a62ba4",
      "metadata": {
        "id": "b3a62ba4",
        "colab": {
          "base_uri": "https://localhost:8080/"
        },
        "outputId": "2a458bbd-7aa7-4ef0-9045-6628bdbeb2e7"
      },
      "outputs": [
        {
          "output_type": "stream",
          "name": "stdout",
          "text": [
            "MLE for 𝜆 is 0.4184100418410042\n"
          ]
        }
      ],
      "source": [
        "lam_hat = n/sum_x\n",
        "print(f\"MLE for 𝜆 is {lam_hat}\")"
      ]
    },
    {
      "cell_type": "markdown",
      "id": "abe4dd4e",
      "metadata": {
        "id": "abe4dd4e"
      },
      "source": [
        "**(b)** Plot a histogram of the data with the **fitted Exponential** density overlaid."
      ]
    },
    {
      "cell_type": "code",
      "execution_count": 31,
      "id": "b401422e",
      "metadata": {
        "id": "b401422e",
        "colab": {
          "base_uri": "https://localhost:8080/",
          "height": 490
        },
        "outputId": "c5f763dc-3e33-4049-b5bd-728adf3a37ee"
      },
      "outputs": [
        {
          "output_type": "execute_result",
          "data": {
            "text/plain": [
              "<matplotlib.legend.Legend at 0x7da9474629c0>"
            ]
          },
          "metadata": {},
          "execution_count": 31
        },
        {
          "output_type": "display_data",
          "data": {
            "text/plain": [
              "<Figure size 640x480 with 1 Axes>"
            ],
            "image/png": "[encoded data removed]"
          },
          "metadata": {}
        }
      ],
      "source": [
        "plt.hist(x, density=True)\n",
        "\n",
        "x_range = np.linspace(min(x)-1, max(x)+1, 200)\n",
        "pdf_values = lam_hat * np.exp(-lam_hat * x_range)\n",
        "plt.plot(x_range, pdf_values, 'r-', linewidth=2, label='Fitted Normal')\n",
        "\n",
        "plt.title('Histogram of Data \"x\" with Fitted Normal Density')\n",
        "plt.xlabel('x')\n",
        "plt.ylabel('Density')\n",
        "plt.legend()"
      ]
    },
    {
      "cell_type": "markdown",
      "id": "4299cea1",
      "metadata": {
        "id": "4299cea1"
      },
      "source": [
        "## Question 4 — Model Comparison (Visual + AIC)\n",
        "\n"
      ]
    },
    {
      "cell_type": "markdown",
      "id": "91767429",
      "metadata": {
        "id": "91767429"
      },
      "source": [
        "**(a)** Visually compare your overlaid fits from Q2 and Q3. Which model seems better?  "
      ]
    },
    {
      "cell_type": "markdown",
      "id": "ef1966e5",
      "metadata": {
        "id": "ef1966e5"
      },
      "source": [
        "I think model two looks better. I think this because there is larger density values for lower x values and lower density values for higher x values. This trend seems to fit the data/histogram better than a peak in the middle."
      ]
    },
    {
      "cell_type": "markdown",
      "id": "a26954c1",
      "metadata": {
        "id": "a26954c1"
      },
      "source": [
        "**(b)** Compute **AIC** for both models using the log-likelihoods at the MLEs:\n",
        "$$\n",
        "\\mathrm{AIC} = -2\\,\\ell(\\hat{\\theta}) + 2k,\n",
        "$$\n",
        "where $k$ is the number of parameters (Normal: $k=2$ for $\\mu,\\sigma$; Exponential: $k=1$).  "
      ]
    },
    {
      "cell_type": "code",
      "execution_count": 37,
      "id": "dbef2262",
      "metadata": {
        "id": "dbef2262",
        "colab": {
          "base_uri": "https://localhost:8080/"
        },
        "outputId": "efe9e96a-14db-4219-a88e-ec183a789bd1"
      },
      "outputs": [
        {
          "output_type": "stream",
          "name": "stdout",
          "text": [
            "AIC for Normal distribution is 47.12877066409345\n",
            "AIC for Exponential distribution is 39.76294361119891\n"
          ]
        }
      ],
      "source": [
        "normal_aic = -2 * normal_log_likelihood + 2 * 2\n",
        "exponential_aic = -2 * exponential_log_likelihood + 2 * 1\n",
        "\n",
        "print(f\"AIC for Normal distribution is {normal_aic}\")\n",
        "print(f\"AIC for Exponential distribution is {exponential_aic}\")"
      ]
    },
    {
      "cell_type": "markdown",
      "id": "43659e37",
      "metadata": {
        "id": "43659e37"
      },
      "source": [
        "**(c)** Which model is preferred by AIC? Briefly justify."
      ]
    },
    {
      "cell_type": "markdown",
      "id": "1a047559",
      "metadata": {
        "id": "1a047559"
      },
      "source": [
        "The exponential distribution model is preferred by AIC because it has a lower AIC value. AIC measures complexity (number of variables) and how well the model fits (log_likelihood) and exponential had a lower log likelihood and one less variable and thus it had a smaller AIC and is therefore preferred by AIC."
      ]
    },
    {
      "cell_type": "markdown",
      "id": "e10fa384",
      "metadata": {
        "id": "e10fa384"
      },
      "source": [
        "## Question 5 — Regression under Different Losses\n",
        "\n",
        "Consider the regression dataset (note the last point is a potential outlier):\n",
        "\\[\n",
        "x_reg = (1,2,3,4,5,6,7,8),\\quad\n",
        "y_reg = (2.1, 3.9, 6.0, 8.2, 9.8, 12.1, 14.2, 30.0).\n",
        "\\]\n",
        "\n",
        "We fit $y = \\beta_0 + \\beta_1 x$ under three losses.\n",
        "\n"
      ]
    },
    {
      "cell_type": "code",
      "execution_count": 46,
      "id": "4ea5bf1e",
      "metadata": {
        "id": "4ea5bf1e"
      },
      "outputs": [],
      "source": [
        "x = np.array([1,2,3,4,5,6,7,8])\n",
        "y = np.array([2.1,3.9,6.0,8.2,9.8,12.1,14.2,30.0])"
      ]
    },
    {
      "cell_type": "markdown",
      "id": "0a7ae8a0",
      "metadata": {
        "id": "0a7ae8a0"
      },
      "source": [
        "**(a)** Compute $(\\hat\\beta_0, \\hat\\beta_1)$ assuming a squared error loss function.\n"
      ]
    },
    {
      "cell_type": "code",
      "source": [
        "beta1_1, beta0_1 = np.polyfit(x, y, 1)\n",
        "\n",
        "print(f\"β₀ (intercept) = {beta0_1:.3f}\")\n",
        "print(f\"β₁ (slope) = {beta1_1:.3f}\")"
      ],
      "metadata": {
        "colab": {
          "base_uri": "https://localhost:8080/"
        },
        "id": "uVip2lk_-ElA",
        "outputId": "3f66b929-8431-4d41-e134-ebb969ea5708"
      },
      "id": "uVip2lk_-ElA",
      "execution_count": 47,
      "outputs": [
        {
          "output_type": "stream",
          "name": "stdout",
          "text": [
            "β₀ (intercept) = -3.500\n",
            "β₁ (slope) = 3.175\n"
          ]
        }
      ]
    },
    {
      "cell_type": "markdown",
      "id": "c335f9a3",
      "metadata": {
        "id": "c335f9a3"
      },
      "source": [
        "**(b)** Compute $(\\hat\\beta_0, \\hat\\beta_1)$ assuming an absolute loss function.\n"
      ]
    },
    {
      "cell_type": "code",
      "execution_count": 48,
      "id": "da1b41bc",
      "metadata": {
        "id": "da1b41bc",
        "colab": {
          "base_uri": "https://localhost:8080/"
        },
        "outputId": "b5519951-dcde-4269-a5c1-6c206b38bd38"
      },
      "outputs": [
        {
          "output_type": "stream",
          "name": "stdout",
          "text": [
            "β₀ (intercept) = -0.150\n",
            "β₁ (slope) = 2.050\n"
          ]
        }
      ],
      "source": [
        "from sklearn.linear_model import QuantileRegressor\n",
        "\n",
        "x_reshaped = x.reshape(-1, 1)\n",
        "\n",
        "model_l1 = QuantileRegressor(quantile=0.5, alpha=0).fit(x_reshaped, y)\n",
        "\n",
        "beta0_2 = model_l1.intercept_\n",
        "beta1_2 = model_l1.coef_[0]\n",
        "print(f\"β₀ (intercept) = {beta0_2:.3f}\")\n",
        "print(f\"β₁ (slope) = {beta1_2:.3f}\")"
      ]
    },
    {
      "cell_type": "markdown",
      "id": "efb17812",
      "metadata": {
        "id": "efb17812"
      },
      "source": [
        "**(c)** Compute $(\\hat\\beta_0, \\hat\\beta_1)$ assuming a loss function that is equal to the largest difference $y - \\hat{y}$\n"
      ]
    },
    {
      "cell_type": "code",
      "execution_count": 71,
      "id": "48d1b434",
      "metadata": {
        "id": "48d1b434",
        "colab": {
          "base_uri": "https://localhost:8080/"
        },
        "outputId": "b95fe277-cbc4-4d7b-ed41-25ae7db72e94"
      },
      "outputs": [
        {
          "output_type": "stream",
          "name": "stdout",
          "text": [
            "β₀ = 5.000\n",
            "β₁ = 2.200\n",
            "Max |residual| = 7.400\n"
          ]
        }
      ],
      "source": [
        "# NOTE: I could not figure out how to do this by myself. This cell is largely AI\n",
        "# generated. I understand how this code works but I did not write it.\n",
        "# I understand if i don't get credit for this cell. The rest of the work is my own.\n",
        "\n",
        "import numpy as np\n",
        "\n",
        "def max_residual(beta0, beta1):\n",
        "    return np.max(np.abs(y - (beta0 + beta1*x)))\n",
        "\n",
        "best_b0, best_b1, best_t = None, None, float(\"inf\")\n",
        "\n",
        "for b1 in np.linspace(1.0, 2.2, 400):\n",
        "    for b0 in np.linspace(0, 5, 400):\n",
        "        t = max_residual(b0, b1)\n",
        "        if t < best_t:\n",
        "            best_t, best_b0, best_b1 = t, b0, b1\n",
        "\n",
        "print(f\"β₀ = {best_b0:.3f}\")\n",
        "print(f\"β₁ = {best_b1:.3f}\")\n",
        "print(f\"Max |residual| = {best_t:.3f}\")\n"
      ]
    },
    {
      "cell_type": "markdown",
      "id": "a0c98989",
      "metadata": {
        "id": "a0c98989"
      },
      "source": [
        "**(d)** Plot the data with **all three** fitted lines on the same axes.  \n"
      ]
    },
    {
      "cell_type": "code",
      "execution_count": 72,
      "id": "932f8726",
      "metadata": {
        "id": "932f8726",
        "colab": {
          "base_uri": "https://localhost:8080/",
          "height": 487
        },
        "outputId": "6b2da1cb-0a16-453c-994e-a9e8851b3bb9"
      },
      "outputs": [
        {
          "output_type": "display_data",
          "data": {
            "text/plain": [
              "<Figure size 800x500 with 1 Axes>"
            ],
            "image/png": "[encoded data removed]"
          },
          "metadata": {}
        }
      ],
      "source": [
        "plt.figure(figsize=(8,5))\n",
        "x_line = np.linspace(1, 8, 100)\n",
        "y_1   = beta0_1   + beta1_1   * x_line\n",
        "y_2   = beta0_2   + beta1_2  * x_line\n",
        "y_3   = best_b0   + best_b1  * x_line\n",
        "\n",
        "plt.scatter(x, y, color=\"black\", label=\"Data\")\n",
        "plt.plot(x_line, y_1, \"r-\",  label=f\"Least Squares\")\n",
        "plt.plot(x_line, y_2, \"b-\", label=f\"Absolute Value Difference\")\n",
        "plt.plot(x_line, y_3, \"g-\", label=f\"y-y_hat\")\n",
        "\n",
        "plt.xlabel(\"x\")\n",
        "plt.ylabel(\"y\")\n",
        "plt.title(\"Regression Fits under Different Loss Functions\")\n",
        "plt.legend()\n",
        "plt.grid(True)\n",
        "plt.show()"
      ]
    }
  ],
  "metadata": {
    "colab": {
      "provenance": []
    },
    "language_info": {
      "name": "python"
    },
    "kernelspec": {
      "name": "python3",
      "display_name": "Python 3"
    }
  },
  "nbformat": 4,
  "nbformat_minor": 5
}