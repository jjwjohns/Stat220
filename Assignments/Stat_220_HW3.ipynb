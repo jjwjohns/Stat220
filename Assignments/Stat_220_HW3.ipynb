{
  "cells": [
    {
      "cell_type": "markdown",
      "id": "cde00f3c",
      "metadata": {
        "id": "cde00f3c"
      },
      "source": [
        "[![Open in Colab](https://colab.research.google.com/assets/colab-badge.svg)](https://colab.research.google.com/github/drbob-richardson/stat220/blob/main/Assignments/Stat_220_HW3.ipynb)"
      ]
    },
    {
      "cell_type": "markdown",
      "id": "4ad50bf3",
      "metadata": {
        "id": "4ad50bf3"
      },
      "source": [
        "# Homework 3\n",
        "Stat 220"
      ]
    },
    {
      "cell_type": "code",
      "execution_count": 2,
      "id": "5327b315",
      "metadata": {
        "id": "5327b315"
      },
      "outputs": [],
      "source": [
        "\n",
        "import numpy as np\n",
        "import matplotlib.pyplot as plt\n",
        "from scipy.stats import norm, uniform, expon"
      ]
    },
    {
      "cell_type": "markdown",
      "id": "eb023830",
      "metadata": {
        "id": "eb023830"
      },
      "source": [
        "## Problem 1\n",
        "Let X be a normal random variable with mean 8 and standard deviation 4. Find the following probabilities:"
      ]
    },
    {
      "cell_type": "markdown",
      "id": "6e961dfd",
      "metadata": {
        "id": "6e961dfd"
      },
      "source": [
        "A. $Pr( X > 10)$"
      ]
    },
    {
      "cell_type": "code",
      "execution_count": 3,
      "id": "4c515347",
      "metadata": {
        "id": "4c515347",
        "outputId": "8b2e6bc5-0398-4059-e0af-19f2b7c9816b",
        "colab": {
          "base_uri": "https://localhost:8080/"
        }
      },
      "outputs": [
        {
          "output_type": "stream",
          "name": "stdout",
          "text": [
            "Probability of X > 10 = 30.85%\n"
          ]
        }
      ],
      "source": [
        "mean = 8\n",
        "sd = 4\n",
        "prob = 1-norm.cdf(10, mean, sd)\n",
        "print(f\"Probability of X > 10 = {round(prob*100, 2)}%\")"
      ]
    },
    {
      "cell_type": "markdown",
      "id": "30b560b4",
      "metadata": {
        "id": "30b560b4"
      },
      "source": [
        "B. Pr(X > 10 and X < 12)"
      ]
    },
    {
      "cell_type": "code",
      "execution_count": 4,
      "id": "6b1eef09",
      "metadata": {
        "id": "6b1eef09",
        "outputId": "ed0e2f7f-a83f-4d6d-dcf9-3001405c1f1c",
        "colab": {
          "base_uri": "https://localhost:8080/"
        }
      },
      "outputs": [
        {
          "output_type": "stream",
          "name": "stdout",
          "text": [
            "Probability of X > 10 and X < 12 = 14.99%\n"
          ]
        }
      ],
      "source": [
        "prob1 = norm.cdf(12, mean, sd)\n",
        "prob2 = norm.cdf(10, mean, sd)\n",
        "print(f\"Probability of X > 10 and X < 12 = {round((prob1 - prob2)*100, 2)}%\")"
      ]
    },
    {
      "cell_type": "markdown",
      "id": "95c50255",
      "metadata": {
        "id": "95c50255"
      },
      "source": [
        "C. Pr(X > 10|X < 12)"
      ]
    },
    {
      "cell_type": "code",
      "execution_count": 5,
      "id": "8a616905",
      "metadata": {
        "id": "8a616905",
        "outputId": "4c5cf496-bcce-48f6-d9d5-d6926f4bdb41",
        "colab": {
          "base_uri": "https://localhost:8080/"
        }
      },
      "outputs": [
        {
          "output_type": "stream",
          "name": "stdout",
          "text": [
            "Probability of X > 10 given X < 12 = 17.81%\n"
          ]
        }
      ],
      "source": [
        "prob3 = norm.cdf(12, mean, sd)\n",
        "print(f\"Probability of X > 10 given X < 12 = {round(((prob1-prob2)/prob3)*100, 2)}%\")"
      ]
    },
    {
      "cell_type": "markdown",
      "id": "798178d6",
      "metadata": {
        "id": "798178d6"
      },
      "source": [
        "D. Pr(X > 10|X > 8)"
      ]
    },
    {
      "cell_type": "code",
      "execution_count": 10,
      "id": "d4d3f6ec",
      "metadata": {
        "id": "d4d3f6ec",
        "outputId": "39363e07-c943-42a6-9e13-21893d29b0d7",
        "colab": {
          "base_uri": "https://localhost:8080/"
        }
      },
      "outputs": [
        {
          "output_type": "stream",
          "name": "stdout",
          "text": [
            "Probability of X > 10 given X > 8 = 61.71%\n"
          ]
        }
      ],
      "source": [
        "prob_top = 1-norm.cdf(10, mean, sd)\n",
        "prob_bottom = 1-norm.cdf(8, mean, sd)\n",
        "print(f\"Probability of X > 10 given X > 8 = {round((prob_top/prob_bottom)*100, 2)}%\")"
      ]
    },
    {
      "cell_type": "markdown",
      "id": "b74e1b27",
      "metadata": {
        "id": "b74e1b27"
      },
      "source": [
        "E. Pr(X > 10 and X > 8)"
      ]
    },
    {
      "cell_type": "code",
      "execution_count": 12,
      "id": "2fa082a2",
      "metadata": {
        "id": "2fa082a2",
        "outputId": "add5203f-d8e3-42f7-bc0d-68ead671a3ab",
        "colab": {
          "base_uri": "https://localhost:8080/"
        }
      },
      "outputs": [
        {
          "output_type": "stream",
          "name": "stdout",
          "text": [
            "Probability of X > 10 and X > 8 = 30.85%\n"
          ]
        }
      ],
      "source": [
        "prob_top = 1-norm.cdf(10, mean, sd)\n",
        "print(f\"Probability of X > 10 and X > 8 = {round((prob_top)*100, 2)}%\")"
      ]
    },
    {
      "cell_type": "markdown",
      "id": "bfedf435",
      "metadata": {
        "id": "bfedf435"
      },
      "source": [
        "## Problem 2\n",
        "Airline departure delays (in minutes) are modeled by an exponential distribution with **mean 15 minutes**."
      ]
    },
    {
      "cell_type": "markdown",
      "id": "fe2bb9da",
      "metadata": {
        "id": "fe2bb9da"
      },
      "source": [
        "A. What is the rate parameter, $\\lambda$?"
      ]
    },
    {
      "cell_type": "markdown",
      "id": "eb80f673",
      "metadata": {
        "id": "eb80f673"
      },
      "source": [
        "mean = 1/𝜆\n",
        "𝜆 = 1/15 per minute"
      ]
    },
    {
      "cell_type": "markdown",
      "id": "f25087ad",
      "metadata": {
        "id": "f25087ad"
      },
      "source": [
        "B. What is the probability a flight is delayed less than 10 minutes?"
      ]
    },
    {
      "cell_type": "code",
      "execution_count": 14,
      "id": "8d52f062",
      "metadata": {
        "id": "8d52f062",
        "outputId": "f2c31177-c89f-489d-e59d-390cd8143a51",
        "colab": {
          "base_uri": "https://localhost:8080/"
        }
      },
      "outputs": [
        {
          "output_type": "stream",
          "name": "stdout",
          "text": [
            "Probability of a flight being delayed less than 10 minutes = 36.79%\n"
          ]
        }
      ],
      "source": [
        "scale = 15\n",
        "prob = 1 - expon.cdf(15, scale=scale)\n",
        "print(f\"Probability of a flight being delayed less than 10 minutes = {round(prob*100, 2)}%\")"
      ]
    },
    {
      "cell_type": "markdown",
      "id": "0bf7f36b",
      "metadata": {
        "id": "0bf7f36b"
      },
      "source": [
        "C. What is the probability a flight is delayed more than 30 minutes?"
      ]
    },
    {
      "cell_type": "code",
      "execution_count": 15,
      "id": "411794d9",
      "metadata": {
        "id": "411794d9",
        "outputId": "1b77a18f-c03e-4ca4-c212-c3097019a71c",
        "colab": {
          "base_uri": "https://localhost:8080/"
        }
      },
      "outputs": [
        {
          "output_type": "stream",
          "name": "stdout",
          "text": [
            "Probability of a flight being delayed more than 30 minutes = 13.53%\n"
          ]
        }
      ],
      "source": [
        "prob = expon.cdf(30, scale=scale)\n",
        "print(f\"Probability of a flight being delayed more than 30 minutes = {round((1-prob)*100, 2)}%\")"
      ]
    },
    {
      "cell_type": "markdown",
      "id": "f727c8f6",
      "metadata": {
        "id": "f727c8f6"
      },
      "source": [
        "D. Find the 75th percentile delay time."
      ]
    },
    {
      "cell_type": "code",
      "execution_count": 16,
      "id": "f052eb8a",
      "metadata": {
        "id": "f052eb8a",
        "outputId": "65e99f88-2f62-4a96-b707-c19e4ce91512",
        "colab": {
          "base_uri": "https://localhost:8080/"
        }
      },
      "outputs": [
        {
          "output_type": "stream",
          "name": "stdout",
          "text": [
            "75th percentile delay time = 20.79 minutes\n"
          ]
        }
      ],
      "source": [
        "Q3 = expon.ppf(0.75, scale=scale)\n",
        "print(f\"75th percentile delay time = {round(Q3, 2)} minutes\")"
      ]
    },
    {
      "cell_type": "markdown",
      "id": "16be50b5",
      "metadata": {
        "id": "16be50b5"
      },
      "source": [
        "## Problem 3\n",
        "A computer simulation generates values uniformly between **100** and **200**.\n"
      ]
    },
    {
      "cell_type": "markdown",
      "id": "70046ef8",
      "metadata": {
        "id": "70046ef8"
      },
      "source": [
        "A. Compute the mean and variance."
      ]
    },
    {
      "cell_type": "code",
      "execution_count": 18,
      "id": "c48d70a7",
      "metadata": {
        "id": "c48d70a7",
        "outputId": "665f2dbb-32e2-4e32-de32-0c60b49f2f41",
        "colab": {
          "base_uri": "https://localhost:8080/"
        }
      },
      "outputs": [
        {
          "output_type": "stream",
          "name": "stdout",
          "text": [
            "Mean = 150.0\n",
            "Variance = 833.33\n"
          ]
        }
      ],
      "source": [
        "print(f\"Mean = {round((200+100)/2, 2)}\")\n",
        "print(f\"Variance = {round(((200-100)**2)/12, 2)}\")"
      ]
    },
    {
      "cell_type": "markdown",
      "id": "05a984cf",
      "metadata": {
        "id": "05a984cf"
      },
      "source": [
        "B. What is the probability the value falls between 120 and 150?"
      ]
    },
    {
      "cell_type": "code",
      "execution_count": 20,
      "id": "a4aebb2c",
      "metadata": {
        "id": "a4aebb2c",
        "outputId": "642371a7-e7ee-4e2f-abd8-141333404233",
        "colab": {
          "base_uri": "https://localhost:8080/"
        }
      },
      "outputs": [
        {
          "output_type": "stream",
          "name": "stdout",
          "text": [
            "Probability of a value falling between 120 and 150 = 30.0%\n"
          ]
        }
      ],
      "source": [
        "print(f\"Probability of a value falling between 120 and 150 = {round(((150-120)/100)*100,2)}%\")"
      ]
    },
    {
      "cell_type": "markdown",
      "id": "45741b2e",
      "metadata": {
        "id": "45741b2e"
      },
      "source": [
        "C. Find the 10th and 90th percentiles."
      ]
    },
    {
      "cell_type": "code",
      "execution_count": 21,
      "id": "9f962d7f",
      "metadata": {
        "id": "9f962d7f",
        "outputId": "cd265454-51e2-4a11-a4b9-0223b61b8c57",
        "colab": {
          "base_uri": "https://localhost:8080/"
        }
      },
      "outputs": [
        {
          "output_type": "stream",
          "name": "stdout",
          "text": [
            "10th percentile = 110\n",
            "90th percentile = 190\n"
          ]
        }
      ],
      "source": [
        "print(f\"10th percentile = 110\")\n",
        "print(f\"90th percentile = 190\")"
      ]
    },
    {
      "cell_type": "markdown",
      "id": "b0a10da6",
      "metadata": {
        "id": "b0a10da6"
      },
      "source": [
        "## Problem 4:\n",
        "Assume weights of a certain dog breed are $X\\sim \\mathcal{N}(60, 8)$ lbs.\n"
      ]
    },
    {
      "cell_type": "markdown",
      "id": "6c6e3c52",
      "metadata": {
        "id": "6c6e3c52"
      },
      "source": [
        "A. Using the **68–95–99.7** rule, approximate:\n",
        "   - $P(52 \\le X \\le 68)$,\n",
        "   - $P(44 \\le X \\le 76)$,\n",
        "   - $P(36 \\le X \\le 84)$."
      ]
    },
    {
      "cell_type": "code",
      "execution_count": null,
      "id": "6237fd8e",
      "metadata": {
        "id": "6237fd8e"
      },
      "outputs": [],
      "source": [
        "print(f\"P(52 ≤ X ≤ 68) = 68%\")\n",
        "print(f\"P(44 ≤ X ≤ 76) = 95%\")\n",
        "print(f\"P(36 ≤ X ≤ 84) = 99.7%\")"
      ]
    },
    {
      "cell_type": "markdown",
      "id": "2ba40fcf",
      "metadata": {
        "id": "2ba40fcf"
      },
      "source": [
        "B. Compute the exact probabilities with the Normal CDF to compare.\n"
      ]
    },
    {
      "cell_type": "code",
      "execution_count": null,
      "id": "d36f236c",
      "metadata": {
        "id": "d36f236c"
      },
      "outputs": [],
      "source": []
    },
    {
      "cell_type": "markdown",
      "id": "52ee8e2f",
      "metadata": {
        "id": "52ee8e2f"
      },
      "source": [
        "C. Using the Normal table to find $P(X \\le 70)$."
      ]
    },
    {
      "cell_type": "markdown",
      "id": "0442a71e",
      "metadata": {
        "id": "0442a71e"
      },
      "source": []
    },
    {
      "cell_type": "markdown",
      "id": "d46ae1c9",
      "metadata": {
        "id": "d46ae1c9"
      },
      "source": [
        "D. Use scipy functions to find $P(X \\le 70)$. How does it compare?"
      ]
    },
    {
      "cell_type": "code",
      "execution_count": null,
      "id": "b6e6ed9c",
      "metadata": {
        "id": "b6e6ed9c"
      },
      "outputs": [],
      "source": []
    },
    {
      "cell_type": "markdown",
      "id": "b87d02cf",
      "metadata": {
        "id": "b87d02cf"
      },
      "source": [
        "E. Find the weight that marks the **top 5\\%** of dogs (the 95th percentile).\n"
      ]
    },
    {
      "cell_type": "code",
      "execution_count": null,
      "id": "3769b40f",
      "metadata": {
        "id": "3769b40f"
      },
      "outputs": [],
      "source": []
    },
    {
      "cell_type": "code",
      "execution_count": null,
      "id": "714e123c",
      "metadata": {
        "id": "714e123c"
      },
      "outputs": [],
      "source": [
        "\n",
        "# Problem 4 starter\n",
        "\n",
        "mu, sigma = 60.0, 8.0\n",
        "\n",
        "# TODO: Empirical rule approximations for the three intervals\n",
        "\n",
        "# TODO: Exact probabilities with norm.cdf\n",
        "\n",
        "# TODO: P(X <= 70)\n",
        "\n",
        "# TODO: 95th percentile\n",
        "\n",
        "# TODO: Plot PDF and shade the region [52, 68]\n",
        "# x = np.linspace(mu - 4*sigma, mu + 4*sigma, 800)\n",
        "# pdf = norm.pdf(x, mu, sigma)\n"
      ]
    },
    {
      "cell_type": "markdown",
      "id": "3d5adcae",
      "metadata": {
        "id": "3d5adcae"
      },
      "source": [
        "## Problem 5:\n",
        "Consider the following three random variables:\n",
        "\n",
        "- **A:** $X_A \\sim \\text{Unif}(120, 180)$\n",
        "- **B:** $X_B \\sim \\mathcal{N}(150, 20)$\n",
        "- **C:** $X_C \\sim \\text{Exp}(\\lambda=1/30)$ (units in minutes)\n"
      ]
    },
    {
      "cell_type": "markdown",
      "id": "674233e6",
      "metadata": {
        "id": "674233e6"
      },
      "source": [
        "A. Compute (or write down) the **mean** of each distribution and order the means from smallest to largest."
      ]
    },
    {
      "cell_type": "code",
      "execution_count": null,
      "id": "8e248d42",
      "metadata": {
        "id": "8e248d42"
      },
      "outputs": [],
      "source": []
    },
    {
      "cell_type": "markdown",
      "id": "48168ee7",
      "metadata": {
        "id": "48168ee7"
      },
      "source": []
    },
    {
      "cell_type": "markdown",
      "id": "a7df3d77",
      "metadata": {
        "id": "a7df3d77"
      },
      "source": [
        "B. Compute the **variance** of each distribution and order the variances from smallest to largest.\n"
      ]
    },
    {
      "cell_type": "code",
      "execution_count": null,
      "id": "9ba3146b",
      "metadata": {
        "id": "9ba3146b"
      },
      "outputs": [],
      "source": []
    },
    {
      "cell_type": "markdown",
      "id": "57d26dc4",
      "metadata": {
        "id": "57d26dc4"
      },
      "source": []
    }
  ],
  "metadata": {
    "language_info": {
      "name": "python"
    },
    "colab": {
      "provenance": []
    },
    "kernelspec": {
      "name": "python3",
      "display_name": "Python 3"
    }
  },
  "nbformat": 4,
  "nbformat_minor": 5
}