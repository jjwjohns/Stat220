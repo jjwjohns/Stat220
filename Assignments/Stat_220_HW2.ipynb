{
  "cells": [
    {
      "cell_type": "markdown",
      "metadata": {
        "id": "VejGh9zCC-ii"
      },
      "source": [
        "[![Open in Colab](https://colab.research.google.com/assets/colab-badge.svg)](https://colab.research.google.com/github/drbob-richardson/stat220/blob/main/Assignments/Stat_220_HW2.ipynb)"
      ]
    },
    {
      "cell_type": "markdown",
      "metadata": {
        "id": "p0Jeg70FvG6D"
      },
      "source": [
        "**Problem 1** A baseball player has a batting average of .240 against right handed pitchers and .375 against left handed pitchers. A batting average can be thought of as the probability they will get a hit."
      ]
    },
    {
      "cell_type": "markdown",
      "metadata": {
        "id": "mjW2p9LywoQ_"
      },
      "source": [
        "Part a. What is the probability the baseball player gets 3 out of 4 hits against a right handed pitcher?"
      ]
    },
    {
      "cell_type": "code",
      "execution_count": 10,
      "metadata": {
        "id": "8-JI8OPxwu4r",
        "outputId": "01af2af3-0102-47e0-a157-34fdb4952f15",
        "colab": {
          "base_uri": "https://localhost:8080/"
        }
      },
      "outputs": [
        {
          "output_type": "execute_result",
          "data": {
            "text/plain": [
              "0.04202495999999999"
            ]
          },
          "metadata": {},
          "execution_count": 10
        }
      ],
      "source": [
        "import math\n",
        "\n",
        "n = 4\n",
        "k = 3\n",
        "p = .240\n",
        "\n",
        "coeff = math.comb(n, k)\n",
        "coeff * (p ** k) * ((1 - p) ** (n - k))"
      ]
    },
    {
      "cell_type": "markdown",
      "metadata": {
        "id": "iuq4VdwYwvO9"
      },
      "source": [
        "Part b. What is the probability the baseball gets 3 out of 4 hits against a left handed pitcher."
      ]
    },
    {
      "cell_type": "code",
      "execution_count": 9,
      "metadata": {
        "id": "Us2ZnQSlw0x_",
        "outputId": "6206fb53-56a1-44f7-8e57-7c8c8c49ee0e",
        "colab": {
          "base_uri": "https://localhost:8080/"
        }
      },
      "outputs": [
        {
          "output_type": "execute_result",
          "data": {
            "text/plain": [
              "0.1318359375"
            ]
          },
          "metadata": {},
          "execution_count": 9
        }
      ],
      "source": [
        "import math\n",
        "\n",
        "n = 4\n",
        "k = 3\n",
        "p = .375\n",
        "\n",
        "coeff = math.comb(n, k)\n",
        "coeff * (p ** k) * ((1 - p) ** (n - k))"
      ]
    },
    {
      "cell_type": "markdown",
      "metadata": {
        "id": "QXJfKQHBxgR6"
      },
      "source": [
        "Part c. The baseball player gets 3 out of 4 hits against a randomly chosen pitcher. Based on these results, what would you assume about what hand the pitcher uses?"
      ]
    },
    {
      "cell_type": "markdown",
      "metadata": {
        "id": "VeEcIBCxxqPn"
      },
      "source": [
        "According to the results of these binomial distributions it is roughly 3 times more likely the pitcher was left handed (4.20% vs 13.18%)."
      ]
    },
    {
      "cell_type": "markdown",
      "metadata": {
        "id": "SDGIExslxGCv"
      },
      "source": [
        "Part d. Assume that the pitcher is randomly chosen from the team where 80% of the pitchers are right handed. Use Bayes rule to determine the probability the pitcher is right handed given that the batter hits 3 out of 4 pitches."
      ]
    },
    {
      "cell_type": "code",
      "execution_count": 8,
      "metadata": {
        "id": "n76xVOIaxsoX",
        "outputId": "89b436c8-d291-418f-e52d-0426626778e5",
        "colab": {
          "base_uri": "https://localhost:8080/"
        }
      },
      "outputs": [
        {
          "output_type": "execute_result",
          "data": {
            "text/plain": [
              "0.5604527789286491"
            ]
          },
          "metadata": {},
          "execution_count": 8
        }
      ],
      "source": [
        "numerator = .04202495999999999 * .8\n",
        "denominator = .04202495999999999 * .8 + .1318359375 * .2\n",
        "numerator / denominator"
      ]
    },
    {
      "cell_type": "markdown",
      "metadata": {
        "id": "u6z8NiewxxoP"
      },
      "source": [
        "**Problem 2**  \n",
        "In Arizona, the long-run probability of rain on any given day of the year is about 5%. A researcher observes that it rained three days in a row and calculates the probability of this event as follows:\n",
        "\n",
        "$$\n",
        "Pr(\\text{3 days of rain}) = Pr(\\text{rain on a day})^3 = 0.05^3 = 0.000125\n",
        "$$\n",
        "\n",
        "He concludes that this was an extremely rare event.  \n",
        "\n",
        "You are asked to critique his calculation.  \n",
        "\n",
        "**Question:** What incorrect assumption about the *relationship between consecutive days of rain* did the researcher make in this calculation, and why does that make his probability estimate misleading?  \n",
        "\n"
      ]
    },
    {
      "cell_type": "markdown",
      "metadata": {
        "id": "JldplVYsUYyA"
      },
      "source": [
        "He assumed that days of rain are independent to each other. As in if it rains one day it has no effect on whether it rains the next day or not. When most likely these events are not independent and if it rains on one day there is a greater probability it will rain on consecutive days. Therefore his estimation for the probability of this event occuring is most likely low."
      ]
    },
    {
      "cell_type": "markdown",
      "metadata": {
        "id": "xOmMCaJQzUAd"
      },
      "source": [
        "**Problem 3** A stock trader is examining stocks. Let event A be the event that Stock A falls. Let event B be the event that Stock B falls. Assume the following.\n",
        "\n",
        "*   Pr(A) = 0.4\n",
        "*   Pr(B) = 0.25\n",
        "*   Pr(A and B) = 0.15\n"
      ]
    },
    {
      "cell_type": "markdown",
      "metadata": {
        "id": "cXuzb3Kn2mIh"
      },
      "source": [
        "Part a. What is the probability that either events A or B happen?"
      ]
    },
    {
      "cell_type": "code",
      "execution_count": 7,
      "metadata": {
        "id": "gdTGwVnR2qaZ",
        "outputId": "a5d403df-606e-444a-b7a0-b213028940e9",
        "colab": {
          "base_uri": "https://localhost:8080/"
        }
      },
      "outputs": [
        {
          "output_type": "execute_result",
          "data": {
            "text/plain": [
              "0.5"
            ]
          },
          "metadata": {},
          "execution_count": 7
        }
      ],
      "source": [
        ".4 + .25 -.15"
      ]
    },
    {
      "cell_type": "markdown",
      "metadata": {
        "id": "mmS34xQ82qyK"
      },
      "source": [
        "Part b. From this, can you make statement as to whether or not events A and B are mutually exclusive?"
      ]
    },
    {
      "cell_type": "markdown",
      "metadata": {
        "id": "hb41nJrdC-im"
      },
      "source": [
        "They are not mutually exclusive because there is a non-zero probabilty given where both A and B can occur."
      ]
    },
    {
      "cell_type": "markdown",
      "metadata": {
        "id": "ONcpDSbgC-im"
      },
      "source": [
        "Part c. What can you say about if events A and B are independent?"
      ]
    },
    {
      "cell_type": "markdown",
      "metadata": {
        "id": "kXY4zFmYC-im"
      },
      "source": [
        "A and B would be independent if the Pr(A) * Pr(B) == Pr(A∩B). However Pr(A) * Pr(B) = .4 * .25 = .10 != .15 (Pr(A∩B)). Therefore they are not independent."
      ]
    },
    {
      "cell_type": "markdown",
      "metadata": {
        "id": "Uhv41ow1swdd"
      },
      "source": [
        "**Problem 4** Each time a person shops at a grocery store, the event of catching a cold or some other virus from another shopper is independent from visit to visit and has a constant probability over the year, equal to 0.01."
      ]
    },
    {
      "cell_type": "markdown",
      "metadata": {
        "id": "3cN1ISlms2X-"
      },
      "source": [
        "Part a. In 100 trips to this store over the course of a year, the probability of catching a virus while shopping there is 100(0.01) = 1.0. What is wrong with this reasoning?"
      ]
    },
    {
      "cell_type": "markdown",
      "metadata": {
        "id": "5P6uZCAss74u"
      },
      "source": [
        "You can't add probabilities like this because they don't stack linearly. This problem should be solved with the complement rule. Because they are independent you can multiply the probability of the event not occuring (complement) by itself for however many times the event could occur which would give you the probability of the given event not happening. Then you can subtract it by one to find the probability of it happening."
      ]
    },
    {
      "cell_type": "markdown",
      "metadata": {
        "id": "xkfLkFiys8lO"
      },
      "source": [
        "Part b. Find the correct probability in (a)."
      ]
    },
    {
      "cell_type": "code",
      "execution_count": 6,
      "metadata": {
        "id": "lCdV9U4ZWECf",
        "outputId": "33123120-1773-4c4e-910a-17308984ca15",
        "colab": {
          "base_uri": "https://localhost:8080/"
        }
      },
      "outputs": [
        {
          "output_type": "execute_result",
          "data": {
            "text/plain": [
              "0.6339676587267709"
            ]
          },
          "metadata": {},
          "execution_count": 6
        }
      ],
      "source": [
        "1-.99**100"
      ]
    },
    {
      "cell_type": "markdown",
      "metadata": {
        "id": "1nUUpZ8qSW3_"
      },
      "source": [
        "Part c. Determine the expected number of days someone would go to a grocery store before they catch a cold or some other virus."
      ]
    },
    {
      "cell_type": "code",
      "source": [
        "1/.01"
      ],
      "metadata": {
        "id": "SIcocePTO8mq",
        "outputId": "dcb68374-c05a-4339-df7f-1f7155b7646e",
        "colab": {
          "base_uri": "https://localhost:8080/"
        }
      },
      "execution_count": 13,
      "outputs": [
        {
          "output_type": "execute_result",
          "data": {
            "text/plain": [
              "100.0"
            ]
          },
          "metadata": {},
          "execution_count": 13
        }
      ]
    },
    {
      "cell_type": "markdown",
      "metadata": {
        "id": "4QE2cv4juKMj"
      },
      "source": [
        "**Problem 5** A quiz has twelve multiple-choice questions, with four possible answers for each. A student who is completely unprepared randomly guesses the answer for each question. Let Y denote the number of correct responses"
      ]
    },
    {
      "cell_type": "markdown",
      "metadata": {
        "id": "d1GLjZqzC-in"
      },
      "source": [
        "Part a. What is the name of the distribution that can be used to determine the number of questionsd guessed correctly? What are the parameters of this distribution?"
      ]
    },
    {
      "cell_type": "markdown",
      "metadata": {
        "id": "wlcOhcY8C-in"
      },
      "source": [
        "Binomial Distribution because it has a fixed number of trials and we want to know how many successes. Inputs are number of trials and probability of a success."
      ]
    },
    {
      "cell_type": "markdown",
      "metadata": {
        "id": "tWDxpF7yuZcR"
      },
      "source": [
        "Part b. Find the probability that the students gets (i) all 12, (ii) none of the questions correct."
      ]
    },
    {
      "cell_type": "code",
      "execution_count": 14,
      "metadata": {
        "id": "BIiWMzxRtpFm",
        "outputId": "b9427eb1-c5f0-4435-ffdd-1440889bc9b4",
        "colab": {
          "base_uri": "https://localhost:8080/"
        }
      },
      "outputs": [
        {
          "output_type": "execute_result",
          "data": {
            "text/plain": [
              "5.960464477539063e-08"
            ]
          },
          "metadata": {},
          "execution_count": 14
        }
      ],
      "source": [
        "# i\n",
        "import math\n",
        "\n",
        "n = 12\n",
        "k = 12\n",
        "p = .25\n",
        "\n",
        "coeff = math.comb(n, k)\n",
        "coeff * (p ** k) * ((1 - p) ** (n - k))"
      ]
    },
    {
      "cell_type": "code",
      "source": [
        "# ii\n",
        "import math\n",
        "\n",
        "n = 12\n",
        "k = 0\n",
        "p = .25\n",
        "\n",
        "coeff = math.comb(n, k)\n",
        "coeff * (p ** k) * ((1 - p) ** (n - k))"
      ],
      "metadata": {
        "id": "IWOAm_VDQWm0",
        "outputId": "4ffe3c62-a128-4fbc-e970-6ef19d4d3c3d",
        "colab": {
          "base_uri": "https://localhost:8080/"
        }
      },
      "execution_count": 15,
      "outputs": [
        {
          "output_type": "execute_result",
          "data": {
            "text/plain": [
              "0.03167635202407837"
            ]
          },
          "metadata": {},
          "execution_count": 15
        }
      ]
    },
    {
      "cell_type": "markdown",
      "metadata": {
        "id": "uWHEWNxLC-in"
      },
      "source": [
        "Part c. What is the expected value and variance of the number of questions guessed correctly?"
      ]
    },
    {
      "cell_type": "code",
      "execution_count": 16,
      "metadata": {
        "id": "eiTWUSBBC-io",
        "outputId": "3afb2d73-9317-4ad5-8fae-b712f86e5cf9",
        "colab": {
          "base_uri": "https://localhost:8080/"
        }
      },
      "outputs": [
        {
          "output_type": "execute_result",
          "data": {
            "text/plain": [
              "3.0"
            ]
          },
          "metadata": {},
          "execution_count": 16
        }
      ],
      "source": [
        "12*.25"
      ]
    },
    {
      "cell_type": "code",
      "source": [
        "12*.25*(1-.25)"
      ],
      "metadata": {
        "id": "RfkwTa-qQzP5",
        "outputId": "9f4bf241-f1cf-41d6-d6ae-c247b58b6419",
        "colab": {
          "base_uri": "https://localhost:8080/"
        }
      },
      "execution_count": 17,
      "outputs": [
        {
          "output_type": "execute_result",
          "data": {
            "text/plain": [
              "2.25"
            ]
          },
          "metadata": {},
          "execution_count": 17
        }
      ]
    }
  ],
  "metadata": {
    "colab": {
      "provenance": []
    },
    "kernelspec": {
      "display_name": "Python 3",
      "name": "python3"
    },
    "language_info": {
      "name": "python"
    }
  },
  "nbformat": 4,
  "nbformat_minor": 0
}